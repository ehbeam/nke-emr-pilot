{
 "cells": [
  {
   "cell_type": "markdown",
   "metadata": {},
   "source": [
    "# Load frequency data"
   ]
  },
  {
   "cell_type": "code",
   "execution_count": 1,
   "metadata": {},
   "outputs": [],
   "source": [
    "import pandas as pd"
   ]
  },
  {
   "cell_type": "code",
   "execution_count": 2,
   "metadata": {},
   "outputs": [],
   "source": [
    "frameworks = [\"data-driven\", \"rdoc\"]"
   ]
  },
  {
   "cell_type": "code",
   "execution_count": 3,
   "metadata": {},
   "outputs": [],
   "source": [
    "df = {}\n",
    "for framework in frameworks:\n",
    "    df[framework] = pd.read_csv(\"data/freq_{}.csv\".format(framework))"
   ]
  },
  {
   "cell_type": "markdown",
   "metadata": {},
   "source": [
    "# Plot word clouds"
   ]
  },
  {
   "cell_type": "code",
   "execution_count": 4,
   "metadata": {},
   "outputs": [],
   "source": [
    "from collections import OrderedDict\n",
    "from wordcloud import WordCloud"
   ]
  },
  {
   "cell_type": "code",
   "execution_count": 5,
   "metadata": {},
   "outputs": [],
   "source": [
    "def plot_wordclouds(framework, domains, lists, path=\"figures/\", \n",
    "                    font=\"style/cmunbmr.ttf\", print_fig=False, width=550):\n",
    "\n",
    "    from wordcloud import WordCloud\n",
    "    import matplotlib.pyplot as plt\n",
    "\n",
    "    for i, dom in enumerate(domains):\n",
    "\n",
    "        def color_func(word, font_size, position, orientation, \n",
    "                       random_state=None, idx=0, **kwargs):\n",
    "\n",
    "            # Adapted from https://amueller.github.io/word_cloud/auto_examples/a_new_hope.html\n",
    "\n",
    "            return palettes[framework][i]\n",
    "\n",
    "        df = lists.loc[lists[\"DOMAIN\"] == dom]\n",
    "        tkns = [t.replace(\"_\", \" \") for t in df[\"TERM\"]]\n",
    "        freq = df[\"FREQUENCY\"]\n",
    "        \n",
    "        tkn2freq = {t: f for t, f in zip(tkns, freq)}\n",
    "\n",
    "        cloud = WordCloud(background_color=\"rgba(255, 255, 255, 0)\", mode=\"RGB\", \n",
    "                          max_font_size=100, prefer_horizontal=1, scale=20, margin=3,\n",
    "                          width=width, height=width, font_path=font, \n",
    "                          random_state=42).generate_from_frequencies(frequencies=tkn2freq)\n",
    "\n",
    "        fig = plt.figure()\n",
    "        plt.axis(\"off\")\n",
    "        plt.imshow(cloud.recolor(color_func=color_func, random_state=42))\n",
    "        \n",
    "        file_name = \"{}cloud_{}_{}.png\".format(path, framework, dom)\n",
    "        plt.savefig(file_name, dpi=500, bbox_inches=\"tight\")\n",
    "        \n",
    "        if print_fig:\n",
    "            print(dom)\n",
    "            plt.show()\n",
    "        plt.close()"
   ]
  },
  {
   "cell_type": "code",
   "execution_count": 6,
   "metadata": {},
   "outputs": [],
   "source": [
    "# Hex color mappings\n",
    "c = {\"red\": \"#CE7D69\", \"orange\": \"#BA7E39\", \"yellow\": \"#CEBE6D\", \n",
    "     \"chartreuse\": \"#AEC87C\", \"green\": \"#77B58A\", \"blue\": \"#7597D0\", \n",
    "     \"magenta\": \"#B07EB6\", \"purple\": \"#7D74A3\", \"brown\": \"#846B43\", \"pink\": \"#CF7593\"}\n",
    "\n",
    "# Palettes for frameworks\n",
    "palettes = {\"data-driven\": [c[\"blue\"], c[\"magenta\"], c[\"yellow\"], c[\"green\"], c[\"red\"], c[\"purple\"], \n",
    "                            c[\"chartreuse\"], c[\"orange\"], c[\"pink\"], c[\"brown\"]],\n",
    "            \"rdoc\": [c[\"blue\"], c[\"red\"], c[\"green\"], c[\"purple\"], c[\"yellow\"], c[\"orange\"]],\n",
    "            \"dsm\": [c[\"purple\"], c[\"chartreuse\"], c[\"orange\"], c[\"blue\"], c[\"red\"], c[\"magenta\"], \n",
    "                    c[\"yellow\"], c[\"green\"], c[\"brown\"]]}"
   ]
  },
  {
   "cell_type": "code",
   "execution_count": 7,
   "metadata": {},
   "outputs": [],
   "source": [
    "for framework in frameworks:\n",
    "    domains = OrderedDict.fromkeys(df[framework][\"DOMAIN\"])\n",
    "    plot_wordclouds(framework, domains, df[framework], width=200)"
   ]
  },
  {
   "cell_type": "code",
   "execution_count": null,
   "metadata": {},
   "outputs": [],
   "source": []
  }
 ],
 "metadata": {
  "kernelspec": {
   "display_name": "Python [conda env:ontol] *",
   "language": "python",
   "name": "conda-env-ontol-py"
  },
  "language_info": {
   "codemirror_mode": {
    "name": "ipython",
    "version": 3
   },
   "file_extension": ".py",
   "mimetype": "text/x-python",
   "name": "python",
   "nbconvert_exporter": "python",
   "pygments_lexer": "ipython3",
   "version": "3.6.8"
  }
 },
 "nbformat": 4,
 "nbformat_minor": 2
}
